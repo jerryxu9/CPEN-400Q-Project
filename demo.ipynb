{
 "cells": [
  {
   "cell_type": "markdown",
   "id": "afb96169-6e9b-410e-b6f3-9ce9ef09f486",
   "metadata": {},
   "source": [
    "<h1>\n",
    "    Demo\n",
    "</h1>"
   ]
  },
  {
   "cell_type": "code",
   "execution_count": 2,
   "metadata": {},
   "outputs": [],
   "source": [
    "import pennylane as qml\n",
    "from pennylane import numpy as np\n",
    "from pennylane.fourier import circuit_spectrum\n",
    "from lecture08_helpers import *\n",
    "\n",
    "import matplotlib.pyplot as plt\n",
    "from sklearn.datasets import make_blobs"
   ]
  },
  {
   "cell_type": "code",
   "execution_count": 3,
   "id": "3a067da0",
   "metadata": {},
   "outputs": [
    {
     "data": {
      "image/png": "[encoded data removed]",
      "text/plain": [
       "<Figure size 640x480 with 1 Axes>"
      ]
     },
     "metadata": {},
     "output_type": "display_data"
    }
   ],
   "source": [
    "# This part of the code prints the graph we are trying to approximate\n",
    "\n",
    "degree = 1  # degree of the target function\n",
    "scaling = 1  # scaling of the data\n",
    "coeffs = [0.15 + 0.15j]*degree  # coefficients of non-zero frequencies\n",
    "coeff0 = 0.1  # coefficient of zero frequency\n",
    "\n",
    "def target_function(x):\n",
    "    \"\"\"Generate a truncated Fourier series, where the data gets re-scaled.\"\"\"\n",
    "    res = coeff0\n",
    "    for idx, coeff in enumerate(coeffs):\n",
    "        exponent = np.complex128(scaling * (idx+1) * x * 1j)\n",
    "        conj_coeff = np.conjugate(coeff)\n",
    "        res += coeff * np.exp(exponent) + conj_coeff * np.exp(-exponent)\n",
    "    return np.real(res)\n",
    "\n",
    "x = np.linspace(-6, 6, 70)\n",
    "target_y = np.array([target_function(x_) for x_ in x])\n",
    "\n",
    "\n",
    "plt.plot(x, target_y, c='black')\n",
    "plt.scatter(x, target_y, facecolor='white', edgecolor='black')\n",
    "plt.ylim(-1, 1)\n",
    "plt.show()"
   ]
  },
  {
   "cell_type": "code",
   "execution_count": 4,
   "metadata": {},
   "outputs": [
    {
     "name": "stdout",
     "output_type": "stream",
     "text": [
      "0: ──RX(1.00)──Rot(0.49,0.56,0.82)──RX(1.00)──Rot(0.35,0.03,0.58)──RZ(1.00)─┤  <Z>\n",
      "x0: [-3.0, -2.0, -1.0, 0, 1.0, 2.0, 3.0]\n"
     ]
    }
   ],
   "source": [
    "#This is a VQC that changes based on the input n_layers which changes how many frequencies we can sample.\n",
    "\n",
    "import pennylane as qml\n",
    "import numpy as np\n",
    "\n",
    "n_layers = 2\n",
    "dev = qml.device(\"default.qubit\", wires=1)\n",
    "\n",
    "@qml.qnode(dev)\n",
    "def circuit(x, weights):\n",
    "    for l in range(n_layers):\n",
    "        qml.RX(x, wires=0, id=\"x\"+str(0))\n",
    "        qml.Rot(weights[l,0,0], weights[l,0,1], weights[l,0,2], wires=0)\n",
    "    qml.RZ(x, wires=0, id=\"x0\")\n",
    "    return qml.expval(qml.PauliZ(wires=0))\n",
    "\n",
    "x = 1\n",
    "weights = np.random.random((n_layers, 1, 3))\n",
    "res = qml.fourier.circuit_spectrum(circuit)(x, weights)\n",
    "\n",
    "print(qml.draw(circuit)(x, weights))\n",
    "for inp, freqs in res.items():\n",
    "    print(f\"{inp}: {freqs}\")"
   ]
  },
  {
   "cell_type": "code",
   "execution_count": null,
   "metadata": {},
   "outputs": [],
   "source": [
    "import pennylane as qml\n",
    "from pennylane import numpy as np\n",
    "from pennylane.fourier import circuit_spectrum\n",
    "from lecture08_helpers import *\n",
    "\n",
    "import matplotlib.pyplot as plt\n",
    "from sklearn.datasets import make_blobs\n",
    "\n",
    "r = 1 # number of times the encoding gets repeated (here equal to the number of layers)\n",
    "weights = np.random.random((n_layers, 1, 3), requires_grad=True) # some random initial weights\n",
    "\n",
    "x = np.linspace(-6, 6, 70)\n",
    "# x = np.linspace(-6, 6, 10, requires_grad=False)\n",
    "random_quantum_model_y = [circuit(x_, weights) for x_ in x]\n",
    "\n",
    "plt.plot(x, random_quantum_model_y, c='blue')\n",
    "plt.ylim(-1,1)\n",
    "plt.show()"
   ]
  },
  {
   "cell_type": "code",
   "execution_count": null,
   "metadata": {},
   "outputs": [],
   "source": [
    "np.random.seed(42)\n",
    "\n",
    "def square_loss(targets, predictions):\n",
    "    loss = 0\n",
    "    for t, p in zip(targets, predictions):\n",
    "        loss += (t - p) ** 2\n",
    "    loss = loss / len(targets)\n",
    "    return 0.5*loss\n",
    "\n",
    "def cost(weights, x, y):\n",
    "    predictions = [circuit(x_, weights) for x_ in x]\n",
    "    return square_loss(y, predictions)\n",
    "\n",
    "max_steps = 50\n",
    "opt = qml.AdamOptimizer(0.3)\n",
    "batch_size = 25\n",
    "cst = [cost(weights, x, target_y)]  # initial cost\n",
    "\n",
    "for step in range(max_steps):\n",
    "\n",
    "    # Select batch of data\n",
    "    batch_index = np.random.randint(0, len(x), (batch_size,))\n",
    "    x_batch = x[batch_index]\n",
    "    y_batch = target_y[batch_index]\n",
    "\n",
    "    # Update the weights by one optimizer step\n",
    "    weights, _, _ = opt.step(cost, weights, x_batch, y_batch)\n",
    "\n",
    "    # Save, and possibly print, the current cost\n",
    "    c = cost(weights, x, target_y)\n",
    "    cst.append(c)\n",
    "    if (step + 1) % 10 == 0:\n",
    "        print(\"Cost at step {0:3}: {1}\".format(step + 1, c))"
   ]
  },
  {
   "cell_type": "code",
   "execution_count": null,
   "metadata": {},
   "outputs": [],
   "source": [
    "predictions = [circuit(x_, weights) for x_ in x]\n",
    "\n",
    "plt.plot(x, target_y, c='black')\n",
    "plt.scatter(x, target_y, facecolor='white', edgecolor='black')\n",
    "plt.plot(x, predictions, c='blue')\n",
    "plt.ylim(-1,1)\n",
    "plt.show()"
   ]
  },
  {
   "cell_type": "code",
   "execution_count": 5,
   "metadata": {},
   "outputs": [
    {
     "name": "stdout",
     "output_type": "stream",
     "text": [
      "[-3. -2. -1.  0.  1.  2.  3.]\n"
     ]
    }
   ],
   "source": [
    "#The gates are RX but you are trying to diagonalize Paulix and Pauliz\n",
    "def encoding_eigvals(x):\n",
    "    rxEigvalOne = qml.eigvals(qml.PauliX(wires=0))/2\n",
    "    rxEigvalTwo = qml.eigvals(qml.PauliX(wires=0))/2\n",
    "    rzEigval = qml.eigvals(qml.PauliZ(wires=0))/2\n",
    "    \n",
    "    return rxEigvalOne, rxEigvalTwo, rzEigval\n",
    "\n",
    "x = 1\n",
    "rxEigvalOne, rxEigvalTwo, rzEigval = encoding_eigvals(x)\n",
    "\n",
    "#Create an array of all possible combinations of the eigenvalues\n",
    "upperCaseLambdaArray = []\n",
    "for eigValOne in rxEigvalOne:\n",
    "    for eigValTwo in rxEigvalTwo:\n",
    "        for eigValThree in rzEigval:\n",
    "            upperCaseLambdaArray.append(eigValOne+eigValTwo+eigValThree)\n",
    "\n",
    "#Create an array of all possible frequency values stored in OmegaArray\n",
    "OmegaArray = []\n",
    "for upperCaseLambdai in upperCaseLambdaArray:\n",
    "    for upperCaseLambdaj in upperCaseLambdaArray:\n",
    "        OmegaArray.append(upperCaseLambdai-upperCaseLambdaj)\n",
    "\n",
    "#Create an new array of unique frequency values stored in OmegaArray\n",
    "OmegaArray = np.unique(OmegaArray)\n",
    "\n",
    "print(OmegaArray)"
   ]
  },
  {
   "cell_type": "code",
   "execution_count": 6,
   "metadata": {},
   "outputs": [
    {
     "name": "stdout",
     "output_type": "stream",
     "text": [
      "[0, 1, 2, 3]\n"
     ]
    }
   ],
   "source": [
    "#Helper function to create a range of floats for Algorithm 3\n",
    "def range_with_floats(start, stop, step):\n",
    "    while stop >= start:\n",
    "        yield start\n",
    "        start += step\n",
    "\n",
    "#Algorithim 3\n",
    "#Number of layers\n",
    "n_layers = 2\n",
    "\n",
    "#For the circuit we use with each algorithm the number of encoding gates is number of layers + 1\n",
    "#This is because we have one additional encoding gate RZ.\n",
    "numberOfEncodingGates = n_layers + 1\n",
    "\n",
    "#Because the eigenvalues of PauliX and PauliZ gates are -0.5 and 0.5 we know that w_max is numberOfEncodingGates\n",
    "wMax = numberOfEncodingGates\n",
    "\n",
    "#We need to assign a step value a resonable step value is anywhere from 0 to 1\n",
    "step = 1\n",
    "\n",
    "grid = []\n",
    "\n",
    "#Create the grid\n",
    "for i in range_with_floats(0, wMax, step):\n",
    "    grid.append(i)\n",
    "\n",
    "print(grid)\n"
   ]
  },
  {
   "cell_type": "code",
   "execution_count": 7,
   "metadata": {},
   "outputs": [],
   "source": [
    "def construct_phi(x, frequencies):\n",
    "  #constructs phi or tilde_phi \n",
    "  #based on x and the given frequencies\n",
    "\n",
    "  phi = np.zeros(2* len(frequencies))\n",
    "  for i in range(len(frequencies)):\n",
    "    phi[2*i] = np.cos(frequencies[i] * x)\n",
    "    phi[2*i+1] = np.sin(frequencies[i] * x)\n",
    "  \n",
    "  return phi\n",
    "\n",
    "def construct_Phi(xi_array, frequencies):\n",
    "  M = len(xi_array)\n",
    "  P = 2*len(frequencies)\n",
    "  Phi = np.zeros((M, P))\n",
    "\n",
    "  for i in range(M):\n",
    "    phi = construct_phi(xi_array[i], frequencies)\n",
    "    for j in range(P):\n",
    "      Phi[i][j] = phi[j]\n",
    "  return Phi\n",
    "\n",
    "def construct_w(xi_array, yi_array, frequencies):\n",
    "  M = len(xi_array)\n",
    "  P = 2*len(frequencies)\n",
    "  Phi = construct_Phi(xi_array, frequencies)\n",
    "  lambda_hyper = 0.001\n",
    "\n",
    "  Phi_T = np.transpose(Phi)\n",
    "\n",
    "  w_1 = np.matmul(Phi_T, Phi) + M*lambda_hyper * np.identity(P)\n",
    "  w_2 = np.matmul(np.linalg.inv(w_1), Phi_T)\n",
    "  w = np.matmul(w_2, yi_array)\n",
    "  return w\n",
    "\n",
    "def f(x, w, frequencies):\n",
    "  phi = construct_phi(x, frequencies)\n",
    "  return np.matmul(w, phi)"
   ]
  },
  {
   "cell_type": "code",
   "execution_count": 8,
   "metadata": {},
   "outputs": [
    {
     "data": {
      "image/png": "[encoded data removed]",
      "text/plain": [
       "<Figure size 640x480 with 1 Axes>"
      ]
     },
     "metadata": {},
     "output_type": "display_data"
    }
   ],
   "source": [
    "degree = 1  # degree of the target function\n",
    "scaling = 1  # scaling of the data\n",
    "coeffs = [0.15 + 0.15j]*degree  # coefficients of non-zero frequencies\n",
    "coeff0 = 0.1  # coefficient of zero frequency\n",
    "\n",
    "def target_function(x):\n",
    "    \"\"\"Generate a truncated Fourier series, where the data gets re-scaled.\"\"\"\n",
    "    res = coeff0\n",
    "    for idx, coeff in enumerate(coeffs):\n",
    "        exponent = np.complex128(scaling * (idx+1) * x * 1j)\n",
    "        conj_coeff = np.conjugate(coeff)\n",
    "        res += coeff * np.exp(exponent) + conj_coeff * np.exp(-exponent)\n",
    "    return np.real(res)\n",
    "\n",
    "x = np.linspace(-6, 6, 70)\n",
    "target_y = np.array([target_function(x_) for x_ in x])\n",
    "\n",
    "frequencies = OmegaArray\n",
    "xi_array = x\n",
    "yi_array = target_y\n",
    "w = construct_w(xi_array, yi_array, frequencies)\n",
    "\n",
    "target_y_f = np.array([f(x_, w, frequencies) for x_ in x])\n",
    "\n",
    "plt.plot(x, target_y, c='black')\n",
    "plt.scatter(x, target_y, facecolor='white', edgecolor='black')\n",
    "plt.ylim(-1, 1)\n",
    "\n",
    "plt.plot(x, target_y_f, c='blue')\n",
    "plt.show()"
   ]
  }
 ],
 "metadata": {
  "kernelspec": {
   "display_name": "Python 3.10.8 64-bit",
   "language": "python",
   "name": "python3"
  },
  "language_info": {
   "codemirror_mode": {
    "name": "ipython",
    "version": 3
   },
   "file_extension": ".py",
   "mimetype": "text/x-python",
   "name": "python",
   "nbconvert_exporter": "python",
   "pygments_lexer": "ipython3",
   "version": "3.10.8"
  },
  "orig_nbformat": 4,
  "vscode": {
   "interpreter": {
    "hash": "aee8b7b246df8f9039afb4144a1f6fd8d2ca17a180786b69acc140d282b71a49"
   }
  }
 },
 "nbformat": 4,
 "nbformat_minor": 2
}
