{
 "cells": [
  {
   "cell_type": "code",
   "execution_count": 45,
   "id": "78563137-299d-479f-8e04-12619c62162e",
   "metadata": {},
   "outputs": [],
   "source": [
    "import pennylane as qml\n",
    "from pennylane import numpy as np\n",
    "from pennylane.fourier import circuit_spectrum\n",
    "from lecture08_helpers import *\n",
    "\n",
    "import matplotlib.pyplot as plt\n",
    "from sklearn.datasets import make_blobs"
   ]
  },
  {
   "cell_type": "markdown",
   "id": "04717247-fca7-4f0a-a947-ee7b63a1ffcb",
   "metadata": {},
   "source": [
    "<h1>\n",
    "    VQC from Pennylane Tutorial\n",
    "</h1>"
   ]
  },
  {
   "cell_type": "code",
   "execution_count": 46,
   "id": "dfc4d3a0-433d-4791-96b8-445cffa53e19",
   "metadata": {},
   "outputs": [],
   "source": [
    "np.random.seed(42)\n",
    "\n",
    "def square_loss(targets, predictions):\n",
    "    loss = 0\n",
    "    for t, p in zip(targets, predictions):\n",
    "        loss += (t - p) ** 2\n",
    "    loss = loss / len(targets)\n",
    "    return 0.5*loss"
   ]
  },
  {
   "cell_type": "code",
   "execution_count": 47,
   "id": "5fbf2308-a269-466d-b900-de6982c3bb3e",
   "metadata": {},
   "outputs": [],
   "source": [
    "degree = 1  # degree of the target function\n",
    "scaling = 1  # scaling of the data\n",
    "coeffs = [0.15 + 0.15j]*degree  # coefficients of non-zero frequencies\n",
    "coeff0 = 0.1  # coefficient of zero frequency\n",
    "\n",
    "def target_function(x):\n",
    "    \"\"\"Generate a truncated Fourier series, where the data gets re-scaled.\"\"\"\n",
    "    res = coeff0\n",
    "    for idx, coeff in enumerate(coeffs):\n",
    "        exponent = np.complex128(scaling * (idx+1) * x * 1j)\n",
    "        conj_coeff = np.conjugate(coeff)\n",
    "        res += coeff * np.exp(exponent) + conj_coeff * np.exp(-exponent)\n",
    "    return np.real(res)"
   ]
  },
  {
   "cell_type": "code",
   "execution_count": 48,
   "id": "7f145926-0577-4c15-8b06-c24ae2760cc9",
   "metadata": {},
   "outputs": [
    {
     "data": {
      "image/png": "[encoded data removed]",
      "text/plain": [
       "<Figure size 432x288 with 1 Axes>"
      ]
     },
     "metadata": {
      "needs_background": "light"
     },
     "output_type": "display_data"
    }
   ],
   "source": [
    "x = np.linspace(-6, 6, 70, requires_grad=False)\n",
    "# x = np.linspace(-6, 6, 10, requires_grad=False)\n",
    "target_y = np.array([target_function(x_) for x_ in x], requires_grad=False)\n",
    "\n",
    "plt.plot(x, target_y, c='black')\n",
    "plt.scatter(x, target_y, facecolor='white', edgecolor='black')\n",
    "plt.ylim(-1, 1)\n",
    "plt.show();"
   ]
  },
  {
   "cell_type": "code",
   "execution_count": 49,
   "id": "15978166-dd56-4c84-ba71-17bb75f66831",
   "metadata": {},
   "outputs": [],
   "source": [
    "scaling = 1\n",
    "dev = qml.device('default.qubit', wires=1)\n",
    "\n",
    "def S(x):\n",
    "    \"\"\"Data-encoding circuit block.\"\"\"\n",
    "    qml.RX(scaling * x, wires=0, id=\"x0\")\n",
    "\n",
    "def W(theta):\n",
    "    \"\"\"Trainable circuit block.\"\"\"\n",
    "    qml.Rot(theta[0], theta[1], theta[2], wires=0)\n",
    "\n",
    "@qml.qnode(dev, interface=\"autograd\")\n",
    "def serial_quantum_model(weights, x):\n",
    "\n",
    "    for theta in weights[:-1]:\n",
    "        W(theta)\n",
    "        S(x)\n",
    "\n",
    "    # (L+1)'th unitary\n",
    "    W(weights[-1])\n",
    "\n",
    "    return qml.expval(qml.PauliZ(wires=0))\n"
   ]
  },
  {
   "cell_type": "code",
   "execution_count": 50,
   "id": "db5e0963-af5e-4037-ac92-8f3dd768d409",
   "metadata": {},
   "outputs": [
    {
     "data": {
      "image/png": "[encoded data removed]",
      "text/plain": [
       "<Figure size 432x288 with 1 Axes>"
      ]
     },
     "metadata": {
      "needs_background": "light"
     },
     "output_type": "display_data"
    }
   ],
   "source": [
    "r = 1 # number of times the encoding gets repeated (here equal to the number of layers)\n",
    "weights = 2 * np.pi * np.random.random(size=(r+1, 3), requires_grad=True) # some random initial weights\n",
    "\n",
    "x = np.linspace(-6, 6, 70, requires_grad=False)\n",
    "# x = np.linspace(-6, 6, 10, requires_grad=False)\n",
    "random_quantum_model_y = [serial_quantum_model(weights, x_) for x_ in x]\n",
    "\n",
    "plt.plot(x, random_quantum_model_y, c='blue')\n",
    "plt.ylim(-1,1)\n",
    "plt.show()"
   ]
  },
  {
   "cell_type": "code",
   "execution_count": 51,
   "id": "56fb737b-0c4e-496f-a41b-b21b33b09159",
   "metadata": {},
   "outputs": [
    {
     "name": "stdout",
     "output_type": "stream",
     "text": [
      "0: ──Rot(2.35,5.97,4.60)──RX(6.00)──Rot(3.76,0.98,0.98)─┤  <Z>\n"
     ]
    }
   ],
   "source": [
    "print(qml.draw(serial_quantum_model)(weights, x[-1]))"
   ]
  },
  {
   "cell_type": "code",
   "execution_count": 52,
   "id": "372028b0-e128-4351-9348-629dd0dc182a",
   "metadata": {},
   "outputs": [
    {
     "name": "stdout",
     "output_type": "stream",
     "text": [
      "Cost at step  10: 0.032120417200045624\n",
      "Cost at step  20: 0.013853561883024756\n",
      "Cost at step  30: 0.004049396436389454\n",
      "Cost at step  40: 0.0005624933894468386\n",
      "Cost at step  50: 8.145777333270847e-05\n"
     ]
    }
   ],
   "source": [
    "def cost(weights, x, y):\n",
    "    predictions = [serial_quantum_model(weights, x_) for x_ in x]\n",
    "    return square_loss(y, predictions)\n",
    "\n",
    "max_steps = 50\n",
    "opt = qml.AdamOptimizer(0.3)\n",
    "batch_size = 25\n",
    "cst = [cost(weights, x, target_y)]  # initial cost\n",
    "\n",
    "for step in range(max_steps):\n",
    "\n",
    "    # Select batch of data\n",
    "    batch_index = np.random.randint(0, len(x), (batch_size,))\n",
    "    x_batch = x[batch_index]\n",
    "    y_batch = target_y[batch_index]\n",
    "\n",
    "    # Update the weights by one optimizer step\n",
    "    weights, _, _ = opt.step(cost, weights, x_batch, y_batch)\n",
    "\n",
    "    # Save, and possibly print, the current cost\n",
    "    c = cost(weights, x, target_y)\n",
    "    cst.append(c)\n",
    "    if (step + 1) % 10 == 0:\n",
    "        print(\"Cost at step {0:3}: {1}\".format(step + 1, c))"
   ]
  },
  {
   "cell_type": "code",
   "execution_count": 53,
   "id": "e3cad2e8-1909-4afa-bb06-f06d421b64f2",
   "metadata": {},
   "outputs": [
    {
     "data": {
      "image/png": "[encoded data removed]",
      "text/plain": [
       "<Figure size 432x288 with 1 Axes>"
      ]
     },
     "metadata": {
      "needs_background": "light"
     },
     "output_type": "display_data"
    }
   ],
   "source": [
    "predictions = [serial_quantum_model(weights, x_) for x_ in x]\n",
    "\n",
    "plt.plot(x, target_y, c='black')\n",
    "plt.scatter(x, target_y, facecolor='white', edgecolor='black')\n",
    "plt.plot(x, predictions, c='blue')\n",
    "plt.ylim(-1,1)\n",
    "plt.show();"
   ]
  },
  {
   "cell_type": "markdown",
   "id": "4db856a4-840b-4c86-bc8c-a1db307dfcad",
   "metadata": {},
   "source": [
    "<img src=\"pics/RFF1-steps.png\" width=\"480\" height=\"240\"/>\n"
   ]
  },
  {
   "cell_type": "code",
   "execution_count": 56,
   "id": "b423ad8a-1f0e-4625-b156-14d6782851ed",
   "metadata": {},
   "outputs": [],
   "source": [
    "# Step 2: Use all eigenvalues to obtain the frequencies"
   ]
  },
  {
   "cell_type": "markdown",
   "id": "fdffc1e9-7319-47a0-a647-ef05988629fe",
   "metadata": {},
   "source": [
    "<img src=\"pics/eq4.png\" width=\"480\" height=\"240\"/>\n",
    "<img src=\"pics/eq5.png\" width=\"480\" height=\"240\"/>"
   ]
  },
  {
   "cell_type": "code",
   "execution_count": 58,
   "id": "0046d35f-c2ae-47c8-98a8-6906922e7aa5",
   "metadata": {},
   "outputs": [
    {
     "name": "stdout",
     "output_type": "stream",
     "text": [
      "x0 : [-1.0, 0, 1.0]\n",
      "{'x0': [-1.0, 0, 1.0]}\n"
     ]
    }
   ],
   "source": [
    "freqs = circuit_spectrum(serial_quantum_model)(weights, x)\n",
    "for k, v in freqs.items():\n",
    "    print(k, \":\", v)\n",
    "\n",
    "print(freqs)"
   ]
  },
  {
   "cell_type": "code",
   "execution_count": 64,
   "id": "ab3fe011-3ed1-4817-bb3e-3317461d3edf",
   "metadata": {},
   "outputs": [],
   "source": [
    "# Step 3: Sample D frequencies\n",
    "D = 3\n",
    "sampled_freqs = freqs\n",
    "temp = np.array(D)"
   ]
  },
  {
   "cell_type": "code",
   "execution_count": 65,
   "id": "dbaaaa62-88b8-4fa5-b964-72426f361a1f",
   "metadata": {},
   "outputs": [],
   "source": [
    "'''\n",
    "for a single x, y pair, the kernel function looks like:\n",
    "    phi(y).T --> [\n",
    "                      1/sqrt(D) * cos(omega1.T * y), 1/sqrt(D) * cos(omega2.T * y), 1/sqrt(D) * cos(omega3.T * y),\n",
    "                      1/sqrt(D) * sin(omega1.T * y), 1/sqrt(D) * sin(omega2.T * y), 1/sqrt(D) * sin(omega3.T * y)                  \n",
    "                  ]\n",
    "    \n",
    "    phi(x)   --> [\n",
    "                    1/sqrt(D) * cos(omega1.T * x), 1/sqrt(D) * cos(omega2.T * x), 1/sqrt(D) * cos(omega3.T * x)\n",
    "                    1/sqrt(D) * sin(omega1.T * x), 1/sqrt(D) * sin(omega2.T * x), 1/sqrt(D) * sin(omega3.T * x)\n",
    "                  ]\n",
    "                  \n",
    "    phi(x).T --> [\n",
    "                    1/sqrt(D) * cos(omega1.T * x), 1/sqrt(D) * sin(omega1.T * x),\n",
    "                    1/sqrt(D) * cos(omega2.T * x), 1/sqrt(D) * sin(omega2.T * x),\n",
    "                    1/sqrt(D) * cos(omega3.T * x), 1/sqrt(D) * sin(omega3.T * x)\n",
    "                  ]\n",
    "                  \n",
    "    k(x, y) = phi(y).T * phi(x).T  --> [something + something]\n",
    "'''\n",
    "\n",
    "\n",
    "# Step 4: Construct the approximated kernel\n",
    "# We think that we don't need to construct a kernel function\n",
    "# def phi_tilde(x, sampled_freq):\n",
    "#     empty = np.zeros((D, 2))\n",
    "#     for i in range(D):\n",
    "#         empty[i][0] = 1/np.sqrt(D) * np.cos(sampled_freq[i] * x)\n",
    "#         empty[i][1] = 1/np.sqrt(D) * np.sin(sampled_freq[i] * x)\n",
    "#     return empty"
   ]
  },
  {
   "cell_type": "markdown",
   "id": "08e7dc5e-d3f9-4c31-9b53-b313fc043916",
   "metadata": {},
   "source": [
    "<img src=\"pics/weights.png\" width=\"360\" height=\"240\"/>\n",
    "<img src=\"pics/phi_x.png\" width=\"480\" height=\"360\"/>"
   ]
  },
  {
   "cell_type": "code",
   "execution_count": 66,
   "id": "e316fc14-00ea-4827-8410-c3e08ebf5b2e",
   "metadata": {},
   "outputs": [],
   "source": [
    "# Step 5: Todo - construct linear regression function and solve for w (weights)]\n",
    "\n",
    "weight\n",
    "\n"
   ]
  },
  {
   "cell_type": "code",
   "execution_count": 62,
   "id": "2649cb21-b59c-43a0-ae26-61b439d0fbaa",
   "metadata": {},
   "outputs": [],
   "source": [
    "# def approximate_f(x):\n",
    "#     return phi_tilde(x)\n",
    "\n",
    "# for i in range(len(x)):\n",
    "#     print(approximate_f(x))"
   ]
  },
  {
   "cell_type": "markdown",
   "id": "f8af5803-a9e3-494b-9623-286ec68cfdb9",
   "metadata": {},
   "source": [
    "<h1>\n",
    "    VQC from Lecture Demo\n",
    "</h1>"
   ]
  },
  {
   "cell_type": "code",
   "execution_count": 19,
   "id": "65098c24-898e-4d2b-b4bc-7d790556d3cc",
   "metadata": {},
   "outputs": [],
   "source": [
    "n_samples = 100\n",
    "\n",
    "X, y = make_blobs(\n",
    "    n_samples=n_samples, \n",
    "    centers=[[0.1, 0.2], [0.25, 0.4]], \n",
    "    cluster_std=0.05, \n",
    "    n_features=2,\n",
    "    random_state=6\n",
    ")"
   ]
  },
  {
   "cell_type": "code",
   "execution_count": 20,
   "id": "23d3041a-e470-4cc2-a889-e05682f13a19",
   "metadata": {},
   "outputs": [
    {
     "data": {
      "image/png": "[encoded data removed]",
      "text/plain": [
       "<Figure size 432x288 with 1 Axes>"
      ]
     },
     "metadata": {
      "needs_background": "light"
     },
     "output_type": "display_data"
    }
   ],
   "source": [
    "plot_data(X, y)"
   ]
  },
  {
   "cell_type": "code",
   "execution_count": 21,
   "id": "5ed801e3-2d44-49a8-8028-80da949720d9",
   "metadata": {},
   "outputs": [],
   "source": [
    "X = np.array(X, requires_grad=False)\n",
    "y = np.array(y, requires_grad=False)\n",
    "y[y == 0] = -1"
   ]
  },
  {
   "cell_type": "code",
   "execution_count": 22,
   "id": "263f487f-c0ec-475d-a0d1-24daea3ecdc5",
   "metadata": {},
   "outputs": [],
   "source": [
    "dev = qml.device('default.qubit', wires=2)\n",
    "\n",
    "@qml.qnode(dev)\n",
    "def model_2(point, weights):\n",
    "    qml.AngleEmbedding(point, wires=[0, 1])\n",
    "    qml.Rot(*weights[0], wires=0)\n",
    "    qml.Rot(*weights[1], wires=1)\n",
    "    qml.CNOT(wires=[1, 0])\n",
    "    return qml.expval(qml.PauliX(0))"
   ]
  },
  {
   "cell_type": "code",
   "execution_count": 23,
   "id": "389866f0-b43f-494a-8c1f-a373d350062f",
   "metadata": {},
   "outputs": [
    {
     "data": {
      "text/plain": [
       "tensor([[0.04327169, 1.03047342, 0.15136947],\n",
       "        [0.86279699, 0.54466744, 2.01688754]], requires_grad=True)"
      ]
     },
     "execution_count": 23,
     "metadata": {},
     "output_type": "execute_result"
    }
   ],
   "source": [
    "weights = np.random.normal(size=(2, 3), requires_grad=True)\n",
    "weights"
   ]
  },
  {
   "cell_type": "code",
   "execution_count": 24,
   "id": "4f68cc8d-3203-42a4-a244-e566d0f4020d",
   "metadata": {},
   "outputs": [
    {
     "name": "stdout",
     "output_type": "stream",
     "text": [
      "0: ──RX(0.12)──Rot(0.04,1.03,0.15)─╭X─┤  <X>\n",
      "1: ──RX(0.25)──Rot(0.86,0.54,2.02)─╰●─┤     \n"
     ]
    }
   ],
   "source": [
    "print(qml.draw(model_2, expansion_strategy=\"device\")(X[0], weights))"
   ]
  },
  {
   "cell_type": "code",
   "execution_count": 25,
   "id": "e470f1b8-9aff-4c21-b6fc-ec2abbf133af",
   "metadata": {},
   "outputs": [],
   "source": [
    "loss = make_loss_function(X, y, model_2)"
   ]
  },
  {
   "cell_type": "code",
   "execution_count": 26,
   "id": "0cd2f2ea-6bcd-477a-9f95-0815625f743a",
   "metadata": {},
   "outputs": [],
   "source": [
    "# opt = qml.GradientDescentOptimizer(stepsize=0.1)\n",
    "\n",
    "# n_its = 100\n",
    "\n",
    "# loss_track = []\n",
    "\n",
    "# for it in range(n_its):\n",
    "#     weights, _loss = opt.step_and_cost(loss, weights)\n",
    "#     if it % 5 == 0:\n",
    "#         our_preds = make_predictions(X, model_2, weights)\n",
    "#         print(f\"Loss at iteration {it} = {_loss}  Accuracy = {compute_accuracy(our_preds, y)}\")\n",
    "#     loss_track.append(_loss)"
   ]
  },
  {
   "cell_type": "code",
   "execution_count": 27,
   "id": "c23ee18c-9015-4432-a593-9abb08d4e95b",
   "metadata": {},
   "outputs": [
    {
     "data": {
      "image/png": "[encoded data removed]",
      "text/plain": [
       "<Figure size 432x288 with 1 Axes>"
      ]
     },
     "metadata": {
      "needs_background": "light"
     },
     "output_type": "display_data"
    }
   ],
   "source": [
    "our_preds = make_predictions(X, model_2, weights)\n",
    "plot_data(X, y)"
   ]
  },
  {
   "cell_type": "code",
   "execution_count": 28,
   "id": "05ea65a9-21d8-4b7a-ad18-af37b33137d8",
   "metadata": {},
   "outputs": [
    {
     "data": {
      "image/png": "[encoded data removed]",
      "text/plain": [
       "<Figure size 432x288 with 1 Axes>"
      ]
     },
     "metadata": {
      "needs_background": "light"
     },
     "output_type": "display_data"
    }
   ],
   "source": [
    "plot_data(X, our_preds)"
   ]
  },
  {
   "cell_type": "code",
   "execution_count": 29,
   "id": "a4ae7e31-b5d0-4b3d-82a4-ce8de6d46fca",
   "metadata": {},
   "outputs": [
    {
     "data": {
      "text/plain": [
       "0.5"
      ]
     },
     "execution_count": 29,
     "metadata": {},
     "output_type": "execute_result"
    }
   ],
   "source": [
    "compute_accuracy(our_preds, y)"
   ]
  },
  {
   "cell_type": "markdown",
   "id": "afb96169-6e9b-410e-b6f3-9ce9ef09f486",
   "metadata": {},
   "source": [
    "<h1>\n",
    "    Steps\n",
    "</h1>"
   ]
  },
  {
   "cell_type": "markdown",
   "id": "65df2c64-f1e1-4ed3-b186-b886c54c7fc3",
   "metadata": {},
   "source": [
    "<img src=\"pics/RFF1-steps.png\" width=\"480\" height=\"240\"/>\n"
   ]
  },
  {
   "cell_type": "code",
   "execution_count": 30,
   "id": "e1b03197-b240-4ef8-8a33-c7c109620e31",
   "metadata": {},
   "outputs": [],
   "source": [
    "# print(weights)\n",
    "# coeffs = weights"
   ]
  },
  {
   "cell_type": "code",
   "execution_count": 31,
   "id": "a8cb7720-d3ab-4bf6-bba3-7b13864eaeca",
   "metadata": {},
   "outputs": [],
   "source": [
    "# 1. Diagonalize the Hamiltonians of the above VQC\n",
    "\n",
    "# obs = [qml.PauliX(0)]\n",
    "# coeffs = [1]\n",
    "# H = qml.Hamiltonian(coeffs, obs)\n",
    "\n",
    "# print(H)"
   ]
  },
  {
   "cell_type": "code",
   "execution_count": 32,
   "id": "10578f78-0465-483e-84a7-0c24cac240d1",
   "metadata": {},
   "outputs": [],
   "source": [
    "# w, v = np.linalg.eig(H)"
   ]
  },
  {
   "cell_type": "code",
   "execution_count": null,
   "id": "4529723a-f2c5-4ab4-a5a7-d18551fbd9ca",
   "metadata": {},
   "outputs": [],
   "source": []
  }
 ],
 "metadata": {
  "kernelspec": {
   "display_name": "Python 3",
   "language": "python",
   "name": "python3"
  },
  "language_info": {
   "codemirror_mode": {
    "name": "ipython",
    "version": 3
   },
   "file_extension": ".py",
   "mimetype": "text/x-python",
   "name": "python",
   "nbconvert_exporter": "python",
   "pygments_lexer": "ipython3",
   "version": "3.9.13"
  },
  "vscode": {
   "interpreter": {
    "hash": "aee8b7b246df8f9039afb4144a1f6fd8d2ca17a180786b69acc140d282b71a49"
   }
  }
 },
 "nbformat": 4,
 "nbformat_minor": 5
}
